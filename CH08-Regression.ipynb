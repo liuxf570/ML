{
 "cells": [
  {
   "cell_type": "markdown",
   "metadata": {},
   "source": [
    "### 回归的一般方法\n",
    "#### （1）收集数据：可以使用任何方法收集数据\n",
    "#### （2）准备数据：回归需要数值型数据，标称型数据将被转换成二值型数据\n",
    "#### （3）分析数据： 绘出数据的可视化二维图将有助于对数据做出理解和分析，在采用缩减法求得新回归系数之后，可以将新拟合线绘再图上作为对比 \n",
    "#### （4）训练算法：找到回归系数\n",
    "#### （5）测试算法：使用$R^2$ 或者预测值和数据的拟合度，来分析模型的效果\n",
    "#### （6）使用算法：使用回归，可以在给定输入的时候预测出一个数值，这是对分类方法的提升，因为这样可以预测连续型数据而不仅仅是离散的类别标签"
   ]
  },
  {
   "cell_type": "markdown",
   "metadata": {},
   "source": [
    "#### 程序清单8-1 标准回归函数和数据导入函数"
   ]
  },
  {
   "cell_type": "code",
   "execution_count": 2,
   "metadata": {
    "collapsed": true
   },
   "outputs": [],
   "source": [
    "from numpy import *\n",
    "def loadDataSet(fileName):    \n",
    "    numFeat = len(open(fileName).readline().split('\\t')) - 1 #特征值个数\n",
    "    dataMat = []; labelMat = []\n",
    "    fr = open(fileName)\n",
    "    for line in fr.readlines():\n",
    "        lineArr =[]\n",
    "        curLine = line.strip().split('\\t')\n",
    "        for i in range(numFeat):\n",
    "            lineArr.append(float(curLine[i]))\n",
    "        dataMat.append(lineArr)\n",
    "        labelMat.append(float(curLine[-1]))\n",
    "    return dataMat,labelMat"
   ]
  },
  {
   "cell_type": "code",
   "execution_count": 3,
   "metadata": {
    "collapsed": true
   },
   "outputs": [],
   "source": [
    "def standRegres(xArr,yArr):\n",
    "    xMat = mat(xArr);yMat = mat(yArr).T #xMat:200*2, yMat:1*200\n",
    "    xTx = xMat.T*xMat #xTx:2*2\n",
    "    #print(xTx)\n",
    "    if linalg.det(xTx) == 0.0:  # 判断行列式是否为0 linalg.det()计算行列式，，需要判断矩阵行列式不为零，否则不能直接求逆。\n",
    "        print(\"This matrix is singular,cannot do inverse\") #这个矩阵是奇异的，不能做逆矩阵\n",
    "        return\n",
    "    ws = xTx.I * (xMat.T * yMat)  #xTx.I,矩阵的逆矩阵，也可以写成 ws = linalg.solve(xTx,xMat.T * yMat)\n",
    "    #np.linalg.inv()：矩阵求逆\n",
    "    #np.linalg.det()：矩阵求行列式（标量）\n",
    "    #solve函数可以求解多元一次方程组\n",
    "    return ws \n"
   ]
  },
  {
   "cell_type": "code",
   "execution_count": 4,
   "metadata": {
    "collapsed": true
   },
   "outputs": [],
   "source": [
    "xArr,yArr = loadDataSet('ex0.txt')"
   ]
  },
  {
   "cell_type": "code",
   "execution_count": 5,
   "metadata": {},
   "outputs": [
    {
     "data": {
      "text/plain": [
       "(200, 2)"
      ]
     },
     "execution_count": 5,
     "metadata": {},
     "output_type": "execute_result"
    }
   ],
   "source": [
    "#print(xArr)\n",
    "shape(xArr)"
   ]
  },
  {
   "cell_type": "code",
   "execution_count": 6,
   "metadata": {},
   "outputs": [
    {
     "data": {
      "text/plain": [
       "(200,)"
      ]
     },
     "execution_count": 6,
     "metadata": {},
     "output_type": "execute_result"
    }
   ],
   "source": [
    "#print(yArr)\n",
    "shape(yArr)"
   ]
  },
  {
   "cell_type": "code",
   "execution_count": 7,
   "metadata": {},
   "outputs": [],
   "source": [
    "ws=standRegres(xArr,yArr)"
   ]
  },
  {
   "cell_type": "code",
   "execution_count": 8,
   "metadata": {},
   "outputs": [
    {
     "name": "stdout",
     "output_type": "stream",
     "text": [
      "[[ 3.00774324]\n",
      " [ 1.69532264]]\n"
     ]
    }
   ],
   "source": [
    "print(ws)"
   ]
  },
  {
   "cell_type": "code",
   "execution_count": 116,
   "metadata": {},
   "outputs": [],
   "source": [
    "xMat = mat(xArr)\n",
    "#print(xMat)"
   ]
  },
  {
   "cell_type": "code",
   "execution_count": 10,
   "metadata": {
    "collapsed": true
   },
   "outputs": [],
   "source": [
    "yMat = mat(yArr)"
   ]
  },
  {
   "cell_type": "code",
   "execution_count": 11,
   "metadata": {
    "collapsed": true
   },
   "outputs": [],
   "source": [
    "yHat = xMat * ws"
   ]
  },
  {
   "cell_type": "code",
   "execution_count": 12,
   "metadata": {},
   "outputs": [
    {
     "data": {
      "text/plain": [
       "<matplotlib.collections.PathCollection at 0x93cea20>"
      ]
     },
     "execution_count": 12,
     "metadata": {},
     "output_type": "execute_result"
    }
   ],
   "source": [
    "import matplotlib.pyplot as plt #--绘图\n",
    "fig=plt.figure()\n",
    "ax=fig.add_subplot(111)\n",
    "#print(xMat[:,1].flatten())  #flatten是numpy.ndarray.flatten的一个函数，即返回一个一维数组。\n",
    "#print(yMat.A[0])\n",
    "#print(yMat.T[:,0].flatten().A[0])\n",
    "ax.scatter(xMat[:,1].flatten().A[0],yMat.T[:,0].flatten().A[0]) #绘--原始数据\n"
   ]
  },
  {
   "cell_type": "code",
   "execution_count": 13,
   "metadata": {
    "scrolled": false
   },
   "outputs": [
    {
     "data": {
      "text/plain": [
       "[<matplotlib.lines.Line2D at 0x5a3a9b0>]"
      ]
     },
     "execution_count": 13,
     "metadata": {},
     "output_type": "execute_result"
    }
   ],
   "source": [
    "xCopy = xMat.copy()\n",
    "xCopy.sort(0) #将点按照feature2升序排列,all featrue1=1.0\n",
    "#print(xCopy)\n",
    "yHat = xCopy * ws\n",
    "ax.plot(xCopy[:,1],yHat)"
   ]
  },
  {
   "cell_type": "code",
   "execution_count": 14,
   "metadata": {},
   "outputs": [
    {
     "data": {
      "image/png": "[encoded data removed]",
      "text/plain": [
       "<matplotlib.figure.Figure at 0x5a3a9e8>"
      ]
     },
     "metadata": {},
     "output_type": "display_data"
    }
   ],
   "source": [
    "plt.show()"
   ]
  },
  {
   "cell_type": "code",
   "execution_count": 15,
   "metadata": {
    "collapsed": true
   },
   "outputs": [],
   "source": [
    "yHat = xMat * ws\n"
   ]
  },
  {
   "cell_type": "code",
   "execution_count": 16,
   "metadata": {},
   "outputs": [
    {
     "data": {
      "text/plain": [
       "array([[ 1.        ,  0.98647356],\n",
       "       [ 0.98647356,  1.        ]])"
      ]
     },
     "execution_count": 16,
     "metadata": {},
     "output_type": "execute_result"
    }
   ],
   "source": [
    "corrcoef(yHat.T,yMat) #numpy的corrcoef (yEstimate , yActual) 来计算预测值和真实值的相关性。yHat和yMat的相关系数是0.98"
   ]
  },
  {
   "cell_type": "markdown",
   "metadata": {},
   "source": [
    "\n",
    "#### 局部加权线性回归（Locally Weighted Linear Regression,LWLR）\n",
    "#### 给待预测点附近的每个点赋予一定的权重，该算法解出回归系数w的形式如下：\n",
    "#### &emsp;&emsp;&emsp;&emsp; $ \\hat{\\omega}=（X^{T}WX）^{-1}X^{T}Wy $"
   ]
  },
  {
   "cell_type": "markdown",
   "metadata": {},
   "source": [
    "#### LWLR 使用“核”（与支持向量机中的核类似）来对附近点赋予更高的权重。最常用高斯核，对用权重如下：\n",
    "#### &emsp;&emsp;&emsp;&emsp; $ \\omega (i,i)=exp\\left ( \\frac{\\left | x^{^{(i)}}-x \\right |}{-2k^{^{2}}} \\right )$\n",
    "#### k=0.5 时，大部分的数据都用于训练回归模型，k=0.01,仅有很少数的局部点被用于训练回归模型"
   ]
  },
  {
   "cell_type": "markdown",
   "metadata": {},
   "source": [
    "#### 程序清单8-2 局部加权线性回归函数"
   ]
  },
  {
   "cell_type": "code",
   "execution_count": 17,
   "metadata": {
    "collapsed": true
   },
   "outputs": [],
   "source": [
    "def lwlr(testPoint,xArr,yArr,k=1.0):\n",
    "    xMat = mat(xArr);yMat=mat(yArr).T\n",
    "    m = shape(xMat)[0]  #200 行\n",
    "    weights = mat(eye((m))) #创建1对角阵\n",
    "    for j in range(m):\n",
    "        diffMat = testPoint - xMat[j,:]\n",
    "        weights[j,j] = exp(diffMat*diffMat.T/(-2.0*k**2)) #权重大小以指数级衰减\n",
    "    xTx = xMat.T * (weights * xMat)\n",
    "    if linalg.det(xTx) == 0.0:  # 判断行列式是否为0 linalg.det()计算行列式，，需要判断矩阵行列式不为零，否则不能直接求逆。\n",
    "        print(\"This matrix is singular,cannot do inverse\") #这个矩阵是奇异的，不能做逆矩阵\n",
    "        return\n",
    "    ws = xTx.I * (xMat.T * (weights*yMat))\n",
    "    return testPoint * ws"
   ]
  },
  {
   "cell_type": "code",
   "execution_count": 18,
   "metadata": {
    "collapsed": true
   },
   "outputs": [],
   "source": [
    "def lwlrTest(testArr,xArr,yArr,k=1.0):\n",
    "    m = shape(testArr)[0]\n",
    "    yHat = zeros(m)\n",
    "    for i in range(m):\n",
    "        yHat[i] = lwlr(testArr[i],xArr,yArr,k)\n",
    "    return yHat"
   ]
  },
  {
   "cell_type": "code",
   "execution_count": 19,
   "metadata": {},
   "outputs": [
    {
     "name": "stdout",
     "output_type": "stream",
     "text": [
      "[1.0, 0.067732]\n",
      "[[ 3.12204471]]\n"
     ]
    }
   ],
   "source": [
    "lwlr(xArr[0],xArr,yArr,1.0)  # 对单点进行估计\n",
    "print(xArr[0])\n",
    "print(lwlr(xArr[0],xArr,yArr,1.0))"
   ]
  },
  {
   "cell_type": "code",
   "execution_count": 20,
   "metadata": {},
   "outputs": [
    {
     "data": {
      "text/plain": [
       "3.176513"
      ]
     },
     "execution_count": 20,
     "metadata": {},
     "output_type": "execute_result"
    }
   ],
   "source": [
    "yArr[0]"
   ]
  },
  {
   "cell_type": "code",
   "execution_count": 21,
   "metadata": {},
   "outputs": [
    {
     "name": "stdout",
     "output_type": "stream",
     "text": [
      "[[ 3.20175729]]\n"
     ]
    }
   ],
   "source": [
    "print(lwlr(xArr[0],xArr,yArr,0.001)) "
   ]
  },
  {
   "cell_type": "code",
   "execution_count": 22,
   "metadata": {
    "collapsed": true
   },
   "outputs": [],
   "source": [
    "yHat = lwlrTest(xArr,xArr,yArr,0.003) #k = 0.003"
   ]
  },
  {
   "cell_type": "code",
   "execution_count": 23,
   "metadata": {
    "collapsed": true,
    "scrolled": false
   },
   "outputs": [],
   "source": [
    "xMat = mat(xArr)\n",
    "srtInd = xMat[:,1].argsort(0) #rgsort函数返回的是数组值从小到大的索引值, #等价于argsort(xMat[:,1],0)\n",
    "#print(srtInd)\n",
    "xSort = xMat[srtInd][:,0,:] #200*2 #等价于xMat[srtInd.flatten().A[0]] \n",
    "#print(xSort)"
   ]
  },
  {
   "cell_type": "code",
   "execution_count": 24,
   "metadata": {},
   "outputs": [
    {
     "data": {
      "image/png": "[encoded data removed]",
      "text/plain": [
       "<matplotlib.figure.Figure at 0x9429b38>"
      ]
     },
     "metadata": {},
     "output_type": "display_data"
    }
   ],
   "source": [
    "import matplotlib.pyplot as plt #--绘图\n",
    "fig=plt.figure()\n",
    "ax=fig.add_subplot(111)\n",
    "ax.plot(xSort[:,1],yHat[srtInd]) #绘--预测数据\n",
    "ax.scatter(xMat[:,1].flatten().A[0],mat(yArr).T.flatten().A[0],s=2,c='red')#绘--原始数据\n",
    "plt.show()"
   ]
  },
  {
   "cell_type": "code",
   "execution_count": 25,
   "metadata": {
    "collapsed": true
   },
   "outputs": [],
   "source": [
    "yHat = lwlrTest(xArr,xArr,yArr,0.01)#k = 0.01"
   ]
  },
  {
   "cell_type": "code",
   "execution_count": 26,
   "metadata": {
    "collapsed": true
   },
   "outputs": [],
   "source": [
    "xMat = mat(xArr)\n",
    "srtInd = xMat[:,1].argsort(0) #rgsort函数返回的是数组值从小到大的索引值, #等价于argsort(xMat[:,1],0)\n",
    "#print(srtInd)\n",
    "xSort = xMat[srtInd][:,0,:] #200*2 #等价于xMat[srtInd.flatten().A[0]] \n",
    "#print(xSort)"
   ]
  },
  {
   "cell_type": "code",
   "execution_count": 27,
   "metadata": {},
   "outputs": [
    {
     "data": {
      "image/png": "[encoded data removed]",
      "text/plain": [
       "<matplotlib.figure.Figure at 0x946d240>"
      ]
     },
     "metadata": {},
     "output_type": "display_data"
    }
   ],
   "source": [
    "import matplotlib.pyplot as plt #--绘图\n",
    "fig=plt.figure()\n",
    "ax=fig.add_subplot(111)\n",
    "ax.plot(xSort[:,1],yHat[srtInd]) #绘--预测数据\n",
    "ax.scatter(xMat[:,1].flatten().A[0],mat(yArr).T.flatten().A[0],s=2,c='red')#绘--原始数据\n",
    "plt.show()"
   ]
  },
  {
   "cell_type": "code",
   "execution_count": 28,
   "metadata": {
    "collapsed": true
   },
   "outputs": [],
   "source": [
    "yHat = lwlrTest(xArr,xArr,yArr,1.0)#k = 1.0"
   ]
  },
  {
   "cell_type": "code",
   "execution_count": 29,
   "metadata": {
    "collapsed": true
   },
   "outputs": [],
   "source": [
    "xMat = mat(xArr)\n",
    "srtInd = xMat[:,1].argsort(0) #rgsort函数返回的是数组值从小到大的索引值, #等价于argsort(xMat[:,1],0)\n",
    "#print(srtInd)\n",
    "xSort = xMat[srtInd][:,0,:] #200*2 #等价于xMat[srtInd.flatten().A[0]] \n",
    "#print(xSort)"
   ]
  },
  {
   "cell_type": "code",
   "execution_count": 30,
   "metadata": {},
   "outputs": [
    {
     "data": {
      "image/png": "[encoded data removed]",
      "text/plain": [
       "<matplotlib.figure.Figure at 0x941e4e0>"
      ]
     },
     "metadata": {},
     "output_type": "display_data"
    }
   ],
   "source": [
    "import matplotlib.pyplot as plt #--绘图\n",
    "fig=plt.figure()\n",
    "ax=fig.add_subplot(111)\n",
    "ax.plot(xSort[:,1],yHat[srtInd]) #绘--预测数据\n",
    "ax.scatter(xMat[:,1].flatten().A[0],mat(yArr).T.flatten().A[0],s=2,c='red')#绘--原始数据\n",
    "plt.show()"
   ]
  },
  {
   "cell_type": "markdown",
   "metadata": {},
   "source": [
    "#### 预测鲍鱼年龄"
   ]
  },
  {
   "cell_type": "code",
   "execution_count": 31,
   "metadata": {
    "collapsed": true
   },
   "outputs": [],
   "source": [
    "def rssError(yArr,yHatArr):\n",
    "    return((yArr-yHatArr)**2).sum()"
   ]
  },
  {
   "cell_type": "code",
   "execution_count": 32,
   "metadata": {
    "collapsed": true
   },
   "outputs": [],
   "source": [
    "abX,abY = loadDataSet('abalone.txt')\n",
    "yHat01 = lwlrTest(abX[0:99],abX[0:99],abY[0:99],0.1)\n",
    "yHat1 = lwlrTest(abX[0:99],abX[0:99],abY[0:99],1)\n",
    "yHat10 = lwlrTest(abX[0:99],abX[0:99],abY[0:99],10)"
   ]
  },
  {
   "cell_type": "code",
   "execution_count": 33,
   "metadata": {},
   "outputs": [
    {
     "data": {
      "text/plain": [
       "56.825235689728842"
      ]
     },
     "execution_count": 33,
     "metadata": {},
     "output_type": "execute_result"
    }
   ],
   "source": [
    "rssError(abY[0:99],yHat01.T)"
   ]
  },
  {
   "cell_type": "code",
   "execution_count": 34,
   "metadata": {},
   "outputs": [
    {
     "data": {
      "text/plain": [
       "429.89056187006514"
      ]
     },
     "execution_count": 34,
     "metadata": {},
     "output_type": "execute_result"
    }
   ],
   "source": [
    "rssError(abY[0:99],yHat1.T)"
   ]
  },
  {
   "cell_type": "code",
   "execution_count": 35,
   "metadata": {},
   "outputs": [
    {
     "data": {
      "text/plain": [
       "549.11817088264513"
      ]
     },
     "execution_count": 35,
     "metadata": {},
     "output_type": "execute_result"
    }
   ],
   "source": [
    "rssError(abY[0:99],yHat10.T)"
   ]
  },
  {
   "cell_type": "code",
   "execution_count": 36,
   "metadata": {
    "collapsed": true
   },
   "outputs": [],
   "source": [
    "yHat01 = lwlrTest(abX[100:199],abX[0:99],abY[0:99],0.1)\n",
    "yHat1 = lwlrTest(abX[100:199],abX[0:99],abY[0:99],1)\n",
    "yHat10 = lwlrTest(abX[100:199],abX[0:99],abY[0:99],10)"
   ]
  },
  {
   "cell_type": "code",
   "execution_count": 37,
   "metadata": {},
   "outputs": [
    {
     "data": {
      "text/plain": [
       "41317.161723642595"
      ]
     },
     "execution_count": 37,
     "metadata": {},
     "output_type": "execute_result"
    }
   ],
   "source": [
    "rssError(abY[100:199],yHat01.T)"
   ]
  },
  {
   "cell_type": "code",
   "execution_count": 38,
   "metadata": {},
   "outputs": [
    {
     "data": {
      "text/plain": [
       "573.52614418976702"
      ]
     },
     "execution_count": 38,
     "metadata": {},
     "output_type": "execute_result"
    }
   ],
   "source": [
    "rssError(abY[100:199],yHat1.T)"
   ]
  },
  {
   "cell_type": "code",
   "execution_count": 39,
   "metadata": {},
   "outputs": [
    {
     "data": {
      "text/plain": [
       "517.57119053875977"
      ]
     },
     "execution_count": 39,
     "metadata": {},
     "output_type": "execute_result"
    }
   ],
   "source": [
    "rssError(abY[100:199],yHat10.T)"
   ]
  },
  {
   "cell_type": "code",
   "execution_count": 40,
   "metadata": {},
   "outputs": [
    {
     "data": {
      "text/plain": [
       "518.63631532496379"
      ]
     },
     "execution_count": 40,
     "metadata": {},
     "output_type": "execute_result"
    }
   ],
   "source": [
    "ws = standRegres(abX[0:99],abY[0:99])\n",
    "yHat = mat(abX[100:199])*ws\n",
    "rssError(abY[100:199],yHat.T.A) # .A将矩阵转化为数组"
   ]
  },
  {
   "cell_type": "markdown",
   "metadata": {},
   "source": [
    "#### 岭回归使用了单位矩阵乘以常量$\\lambda $,其中单位矩阵I，可以看到值1贯穿整个对角线，其余元素全是0，形象地在0构成的平面上有一天1组成的岭，回归系数计算公式\n",
    "#### &emsp;&emsp;&emsp;&emsp; $ \\hat{\\omega}=（X^{T}X+\\lambda I）^{-1}X^{T}y $\n",
    "#### 岭回归最先用来处理特征数多于样本的情况，现在也用于再估计总加入偏差，从而得到更好的估计，这里通过引入$\\lambda $来限制所有$\\omega$之和，通过引入惩罚项，能够减少不重要的参数，这个技术在统计学中也叫做缩减（shrinkage）"
   ]
  },
  {
   "cell_type": "markdown",
   "metadata": {},
   "source": [
    "#### 程序清单8-3 岭回归"
   ]
  },
  {
   "cell_type": "code",
   "execution_count": 41,
   "metadata": {
    "collapsed": true
   },
   "outputs": [],
   "source": [
    "def ridgeRegres(xMat,yMat,lam = 0.2):\n",
    "    xTx = xMat.T*xMat #xTx:2*2\n",
    "    denom = xTx + eye(shape(xMat)[1])*lam    \n",
    "    if linalg.det(xTx) == 0.0:  \n",
    "        print(\"This matrix is singular,cannot do inverse\") \n",
    "        return\n",
    "    ws = denom.I * (xMat.T * yMat)\n",
    "    return ws "
   ]
  },
  {
   "cell_type": "code",
   "execution_count": 42,
   "metadata": {
    "collapsed": true
   },
   "outputs": [],
   "source": [
    "def ridgeTest(xArr,yArr):\n",
    "    xMat = mat(xArr);yMat=mat(yArr).T\n",
    "    yMean = mean(yMat,0)  #数据标准化\n",
    "    yMat = yMat - yMean\n",
    "    xMeans = mean(xMat,0)\n",
    "    xVar = var(xMat,0)\n",
    "    xMat = (xMat-xMeans)/xVar#所有特征减去各自的均值并除以方差\n",
    "    numTestPts = 30#取30个不同的lambda调用函数,30个不同的lambda值进行测试，选最优\n",
    "    wMat = zeros((numTestPts,shape(xMat)[1]))\n",
    "    for i in range(numTestPts):\n",
    "        ws = ridgeRegres(xMat,yMat,exp(i-10))\n",
    "        wMat[i,:] = ws.T\n",
    "    return wMat\n"
   ]
  },
  {
   "cell_type": "code",
   "execution_count": 43,
   "metadata": {
    "collapsed": true
   },
   "outputs": [],
   "source": [
    "ridgeWeights = ridgeTest(abX,abY)"
   ]
  },
  {
   "cell_type": "code",
   "execution_count": 44,
   "metadata": {},
   "outputs": [
    {
     "data": {
      "image/png": "[encoded data removed]",
      "text/plain": [
       "<matplotlib.figure.Figure at 0x951b8d0>"
      ]
     },
     "metadata": {},
     "output_type": "display_data"
    }
   ],
   "source": [
    " #缩减效果图\n",
    "import matplotlib.pyplot as plt\n",
    "fig=plt.figure()\n",
    "ax=fig.add_subplot(111)\n",
    "ax.plot(ridgeWeights)\n",
    "plt.show()"
   ]
  },
  {
   "cell_type": "markdown",
   "metadata": {},
   "source": [
    "### 前向逐步回归算法的伪代码\n",
    "####  数据标准化，使其分布满足0均值和单位方差\n",
    "####  在每轮迭代过程中：\n",
    "####  &emsp;&emsp;设置当前最小误差lowestError为正无穷：\n",
    "#### &emsp;&emsp; 对每个特征：\n",
    "#### &emsp;&emsp; &emsp;&emsp; 增大或缩小：\n",
    "#### &emsp;&emsp; &emsp;&emsp;&emsp;&emsp; 改变一个系数得到一个新的W\n",
    "#### &emsp;&emsp; &emsp;&emsp;&emsp;&emsp; 计算新W小的误差\n",
    "#### &emsp;&emsp; &emsp;&emsp;&emsp;&emsp; 如果误差Error小于当前最小误差lowestError：设置Wbest等于当前的W\n",
    "#### &emsp;&emsp; 如果所有向量都没被优化，增加迭代数目，继续下一次循环"
   ]
  },
  {
   "cell_type": "markdown",
   "metadata": {},
   "source": [
    "#### 程序清单8-4 前向逐步线性回归"
   ]
  },
  {
   "cell_type": "code",
   "execution_count": 45,
   "metadata": {
    "collapsed": true
   },
   "outputs": [],
   "source": [
    "def regularize(xMat):#regularize 标准化\n",
    "    inMat = xMat.copy()\n",
    "    inMeans= mean(inMat,0)\n",
    "    inVar = var(inMat,0)\n",
    "    inMat = (inMat - inMeans)/inVar\n",
    "    return inMat\n",
    "\n",
    "def stageWise(xArr,yArr,eps = 0.01,numIt=100):\n",
    "    xMat = mat(xArr);yMat=mat(yArr).T\n",
    "    yMean = mean(yMat,0)  #数据标准化\n",
    "    yMat = yMat - yMean\n",
    "    xMat = regularize(xMat)\n",
    "    m,n = shape(xMat)\n",
    "    returnMat = zeros((numIt,n))\n",
    "    ws = zeros((n,1))\n",
    "    wsTest = ws.copy()\n",
    "    wsMax = ws.copy()\n",
    "    for i in range(numIt):\n",
    "        print(ws.T)\n",
    "        lowestError = inf;\n",
    "        for j in range(n):\n",
    "            for sign in [-1,1]:\n",
    "                wsTest = ws.copy()\n",
    "                wsTest[j]+=eps*sign\n",
    "                yTest = xMat*wsTest\n",
    "                rssE = rssError(yMat.A,yTest.A)\n",
    "                if rssE < lowestError:\n",
    "                    lowestError = rssE\n",
    "                    wsMax = wsTest\n",
    "        ws = wsMax.copy()\n",
    "        returnMat[i,:] = ws.T\n",
    "    return returnMat"
   ]
  },
  {
   "cell_type": "code",
   "execution_count": 46,
   "metadata": {
    "collapsed": true
   },
   "outputs": [],
   "source": [
    "xArr, yArr = loadDataSet('abalone.txt')"
   ]
  },
  {
   "cell_type": "code",
   "execution_count": 117,
   "metadata": {},
   "outputs": [],
   "source": [
    "#stageWeights=stageWise(xArr,yArr,0.001,5000)"
   ]
  },
  {
   "cell_type": "code",
   "execution_count": 49,
   "metadata": {},
   "outputs": [
    {
     "data": {
      "image/png": "[encoded data removed]",
      "text/plain": [
       "<matplotlib.figure.Figure at 0x9578358>"
      ]
     },
     "metadata": {},
     "output_type": "display_data"
    }
   ],
   "source": [
    "import matplotlib.pyplot as plt\n",
    "fig=plt.figure()\n",
    "ax=fig.add_subplot(111)\n",
    "ax.plot(stageWeights)\n",
    "plt.show()"
   ]
  },
  {
   "cell_type": "markdown",
   "metadata": {
    "collapsed": true
   },
   "source": [
    "### 用回归法预测乐高套装的价格\n",
    "#### （1）收集数据：用Google Shopping的API收集数据\n",
    "#### （2）准备数据：返回的JSON数据中抽取价格\n",
    "#### （3）分析数据： 可视化并观察数据\n",
    "#### （4）训练算法：构建不同的模型，采用逐步线性回归和直接的线性回归模型\n",
    "#### （5）测试算法：使用交叉验证测试不同的模型，来分析哪个效果最好\n",
    "#### （6）使用算法：这次练习的目标就是生成数据模型"
   ]
  },
  {
   "cell_type": "code",
   "execution_count": 118,
   "metadata": {},
   "outputs": [],
   "source": [
    "#原文中通过Google提供的API来抓取价格，但由于现在访问不了Google,所以，直接通过文本给的html文件直接读取价格信息。然后进一步进行分析预测。\n"
   ]
  },
  {
   "cell_type": "markdown",
   "metadata": {},
   "source": [
    "#### 程序清单8-5 购物信息的获取函数"
   ]
  },
  {
   "cell_type": "code",
   "execution_count": 73,
   "metadata": {},
   "outputs": [],
   "source": [
    "from bs4 import BeautifulSoup\n",
    "import numpy as np\n",
    "import random\n",
    "def scrapePage(retX, retY, inFile, yr, numPce, origPrc):\n",
    "    # 打开并读取HTML文件\n",
    "    with open(inFile, encoding='utf-8') as f:\n",
    "        html = f.read()\n",
    "        soup = BeautifulSoup(html)\n",
    "        i = 1\n",
    "        # 根据HTML页面结构进行解析\n",
    "        currentRow = soup.find_all('table', r = \"%d\" % i)\n",
    "    while(len(currentRow) != 0):\n",
    "        currentRow = soup.find_all('table', r = \"%d\" % i)\n",
    "        title = currentRow[0].find_all('a')[1].text\n",
    "        lwrTitle = title.lower()\n",
    "        # 查找是否有全新标签\n",
    "        if (lwrTitle.find('new') > -1) or (lwrTitle.find('nisb') > -1):\n",
    "            newFlag = 1.0\n",
    "        else:\n",
    "            newFlag = 0.0\n",
    "        # 查找是否已经标志出售，我们只收集已出售的数据\n",
    "        soldUnicde = currentRow[0].find_all('td')[3].find_all('span')\n",
    "        if len(soldUnicde) == 0:\n",
    "            print(\"商品 #%d 没有出售\" % i)\n",
    "        else:\n",
    "            # 解析页面获取当前价格\n",
    "            soldPrice = currentRow[0].find_all('td')[4]\n",
    "            priceStr = soldPrice.text\n",
    "            priceStr = priceStr.replace('$','')\n",
    "            priceStr = priceStr.replace(',','')\n",
    "            if len(soldPrice) > 1:\n",
    "                priceStr = priceStr.replace('Free shipping', '')\n",
    "            sellingPrice = float(priceStr)\n",
    "            # 去掉不完整的套装价格\n",
    "            if  sellingPrice > origPrc * 0.5:\n",
    "                print(\"%d\\t%d\\t%d\\t%f\\t%f\" % (yr, numPce, newFlag, origPrc, sellingPrice))\n",
    "                retX.append([yr, numPce, newFlag, origPrc])\n",
    "                retY.append(sellingPrice)\n",
    "        i += 1\n",
    "        currentRow = soup.find_all('table', r = \"%d\" % i)\n",
    "     \n"
   ]
  },
  {
   "cell_type": "code",
   "execution_count": 74,
   "metadata": {},
   "outputs": [],
   "source": [
    "#分别抓取各网页数据\n",
    "def setDataCollect(retX, retY):\n",
    "    scrapePage(retX, retY, 'lego8288.html', 2006, 800, 49.99)             \n",
    "    scrapePage(retX, retY, 'lego10030.html', 2002, 3096, 269.99)          \n",
    "    scrapePage(retX, retY, 'lego10179.html', 2007, 5195, 499.99)             \n",
    "    scrapePage(retX, retY, 'lego10181.html', 2007, 3428, 199.99)               \n",
    "    scrapePage(retX, retY, 'lego10189.html', 2008, 5922, 299.99)                \n",
    "    scrapePage(retX, retY, 'lego10196.html', 2009, 3263, 249.99)"
   ]
  },
  {
   "cell_type": "code",
   "execution_count": 75,
   "metadata": {},
   "outputs": [
    {
     "name": "stderr",
     "output_type": "stream",
     "text": [
      "E:\\Anaconda3\\lib\\site-packages\\bs4\\__init__.py:181: UserWarning: No parser was explicitly specified, so I'm using the best available HTML parser for this system (\"lxml\"). This usually isn't a problem, but if you run this code on another system, or in a different virtual environment, it may use a different parser and behave differently.\n",
      "\n",
      "The code that caused this warning is on line 193 of the file E:\\Anaconda3\\lib\\runpy.py. To get rid of this warning, change code that looks like this:\n",
      "\n",
      " BeautifulSoup(YOUR_MARKUP})\n",
      "\n",
      "to this:\n",
      "\n",
      " BeautifulSoup(YOUR_MARKUP, \"lxml\")\n",
      "\n",
      "  markup_type=markup_type))\n"
     ]
    },
    {
     "name": "stdout",
     "output_type": "stream",
     "text": [
      "2006\t800\t0\t49.990000\t85.000000\n",
      "2006\t800\t0\t49.990000\t102.500000\n",
      "2006\t800\t0\t49.990000\t77.000000\n",
      "商品 #4 没有出售\n",
      "2006\t800\t0\t49.990000\t162.500000\n",
      "2002\t3096\t0\t269.990000\t699.990000\n",
      "2002\t3096\t0\t269.990000\t602.000000\n",
      "2002\t3096\t0\t269.990000\t515.000000\n",
      "2002\t3096\t0\t269.990000\t510.000000\n",
      "2002\t3096\t0\t269.990000\t375.000000\n",
      "2002\t3096\t1\t269.990000\t1050.000000\n",
      "2002\t3096\t0\t269.990000\t740.000000\n",
      "2002\t3096\t1\t269.990000\t759.000000\n",
      "2002\t3096\t0\t269.990000\t730.000000\n",
      "2002\t3096\t1\t269.990000\t750.000000\n",
      "商品 #11 没有出售\n",
      "2007\t5195\t0\t499.990000\t910.000000\n",
      "2007\t5195\t1\t499.990000\t1199.990000\n",
      "2007\t5195\t0\t499.990000\t811.880000\n",
      "商品 #4 没有出售\n",
      "2007\t5195\t0\t499.990000\t1324.790000\n",
      "2007\t5195\t1\t499.990000\t850.000000\n",
      "2007\t5195\t1\t499.990000\t800.000000\n",
      "2007\t5195\t0\t499.990000\t810.000000\n",
      "2007\t5195\t1\t499.990000\t1075.000000\n",
      "2007\t5195\t0\t499.990000\t1050.000000\n",
      "2007\t5195\t1\t499.990000\t1199.990000\n",
      "2007\t5195\t0\t499.990000\t1342.310000\n",
      "2007\t5195\t1\t499.990000\t1000.000000\n",
      "2007\t5195\t0\t499.990000\t1780.000000\n",
      "2007\t5195\t0\t499.990000\t750.000000\n",
      "商品 #16 没有出售\n",
      "2007\t5195\t0\t499.990000\t2204.990000\n",
      "商品 #18 没有出售\n",
      "2007\t5195\t1\t499.990000\t925.000000\n",
      "2007\t5195\t0\t499.990000\t860.000000\n",
      "商品 #21 没有出售\n",
      "商品 #22 没有出售\n",
      "2007\t5195\t1\t499.990000\t1199.990000\n",
      "2007\t5195\t1\t499.990000\t1099.990000\n",
      "2007\t5195\t1\t499.990000\t1149.990000\n",
      "2007\t5195\t1\t499.990000\t800.000000\n",
      "2007\t5195\t1\t499.990000\t850.000000\n",
      "2007\t3428\t0\t199.990000\t469.950000\n",
      "2007\t3428\t0\t199.990000\t479.000000\n",
      "2007\t3428\t0\t199.990000\t299.990000\n",
      "2007\t3428\t0\t199.990000\t369.000000\n",
      "2007\t3428\t1\t199.990000\t424.950000\n",
      "2007\t3428\t1\t199.990000\t380.000000\n",
      "2007\t3428\t0\t199.990000\t305.000000\n",
      "2008\t5922\t1\t299.990000\t530.000000\n",
      "商品 #2 没有出售\n",
      "2008\t5922\t1\t299.990000\t599.950000\n",
      "2008\t5922\t0\t299.990000\t510.000000\n",
      "2008\t5922\t0\t299.990000\t423.000000\n",
      "商品 #6 没有出售\n",
      "商品 #7 没有出售\n",
      "2008\t5922\t1\t299.990000\t599.990000\n",
      "商品 #9 没有出售\n",
      "2008\t5922\t1\t299.990000\t589.990000\n",
      "2008\t5922\t1\t299.990000\t569.990000\n",
      "2008\t5922\t1\t299.990000\t529.990000\n",
      "2008\t5922\t0\t299.990000\t500.000000\n",
      "2008\t5922\t1\t299.990000\t549.950000\n",
      "2008\t5922\t0\t299.990000\t300.000000\n",
      "商品 #16 没有出售\n",
      "2009\t3263\t1\t249.990000\t380.000000\n",
      "2009\t3263\t1\t249.990000\t399.000000\n",
      "2009\t3263\t1\t249.990000\t427.990000\n",
      "2009\t3263\t0\t249.990000\t360.000000\n",
      "商品 #5 没有出售\n",
      "商品 #6 没有出售\n",
      "2009\t3263\t1\t249.990000\t399.000000\n",
      "2009\t3263\t1\t249.990000\t399.950000\n",
      "2009\t3263\t1\t249.990000\t499.990000\n",
      "商品 #10 没有出售\n",
      "2009\t3263\t0\t249.990000\t399.950000\n",
      "商品 #12 没有出售\n",
      "2009\t3263\t1\t249.990000\t331.510000\n"
     ]
    }
   ],
   "source": [
    "lgX = [];lgY=[]\n",
    "setDataCollect(lgX,lgY)"
   ]
  },
  {
   "cell_type": "code",
   "execution_count": 77,
   "metadata": {},
   "outputs": [
    {
     "data": {
      "text/plain": [
       "(63, 4)"
      ]
     },
     "execution_count": 77,
     "metadata": {},
     "output_type": "execute_result"
    }
   ],
   "source": [
    "shape(lgX)"
   ]
  },
  {
   "cell_type": "code",
   "execution_count": 119,
   "metadata": {},
   "outputs": [],
   "source": [
    "#print(lgX)"
   ]
  },
  {
   "cell_type": "code",
   "execution_count": 81,
   "metadata": {
    "collapsed": true
   },
   "outputs": [],
   "source": [
    "lgX1 = mat(ones((63,5)))"
   ]
  },
  {
   "cell_type": "code",
   "execution_count": 82,
   "metadata": {},
   "outputs": [],
   "source": [
    "lgX1[:,1:5] = mat(lgX)"
   ]
  },
  {
   "cell_type": "code",
   "execution_count": 83,
   "metadata": {},
   "outputs": [
    {
     "data": {
      "text/plain": [
       "[2006, 800, 0.0, 49.99]"
      ]
     },
     "execution_count": 83,
     "metadata": {},
     "output_type": "execute_result"
    }
   ],
   "source": [
    "lgX[0]"
   ]
  },
  {
   "cell_type": "code",
   "execution_count": 84,
   "metadata": {},
   "outputs": [
    {
     "data": {
      "text/plain": [
       "matrix([[  1.00000000e+00,   2.00600000e+03,   8.00000000e+02,\n",
       "           0.00000000e+00,   4.99900000e+01]])"
      ]
     },
     "execution_count": 84,
     "metadata": {},
     "output_type": "execute_result"
    }
   ],
   "source": [
    "lgX1[0]"
   ]
  },
  {
   "cell_type": "code",
   "execution_count": 85,
   "metadata": {
    "collapsed": true
   },
   "outputs": [],
   "source": [
    "ws = standRegres(lgX1,lgY)"
   ]
  },
  {
   "cell_type": "code",
   "execution_count": 86,
   "metadata": {},
   "outputs": [
    {
     "data": {
      "text/plain": [
       "matrix([[  5.53199701e+04],\n",
       "        [ -2.75928219e+01],\n",
       "        [ -2.68392234e-02],\n",
       "        [ -1.12208481e+01],\n",
       "        [  2.57604055e+00]])"
      ]
     },
     "execution_count": 86,
     "metadata": {},
     "output_type": "execute_result"
    }
   ],
   "source": [
    "ws"
   ]
  },
  {
   "cell_type": "code",
   "execution_count": 88,
   "metadata": {},
   "outputs": [
    {
     "data": {
      "text/plain": [
       "matrix([[ 76.07418847]])"
      ]
     },
     "execution_count": 88,
     "metadata": {},
     "output_type": "execute_result"
    }
   ],
   "source": [
    "lgX1[0]*ws"
   ]
  },
  {
   "cell_type": "code",
   "execution_count": 89,
   "metadata": {},
   "outputs": [
    {
     "data": {
      "text/plain": [
       "matrix([[  5.53199701e+04],\n",
       "        [ -2.75928219e+01],\n",
       "        [ -2.68392234e-02],\n",
       "        [ -1.12208481e+01],\n",
       "        [  2.57604055e+00]])"
      ]
     },
     "execution_count": 89,
     "metadata": {},
     "output_type": "execute_result"
    }
   ],
   "source": [
    "ws"
   ]
  },
  {
   "cell_type": "code",
   "execution_count": 91,
   "metadata": {},
   "outputs": [
    {
     "data": {
      "text/plain": [
       "matrix([[ 431.17797665]])"
      ]
     },
     "execution_count": 91,
     "metadata": {},
     "output_type": "execute_result"
    }
   ],
   "source": [
    "lgX1[-1]*ws"
   ]
  },
  {
   "cell_type": "code",
   "execution_count": 92,
   "metadata": {},
   "outputs": [
    {
     "data": {
      "text/plain": [
       "matrix([[ 516.20733099]])"
      ]
     },
     "execution_count": 92,
     "metadata": {},
     "output_type": "execute_result"
    }
   ],
   "source": [
    "lgX1[43]*ws"
   ]
  },
  {
   "cell_type": "markdown",
   "metadata": {},
   "source": [
    "#### 程序清单8-6 交叉验证测试岭回归"
   ]
  },
  {
   "cell_type": "code",
   "execution_count": 113,
   "metadata": {},
   "outputs": [],
   "source": [
    "\n",
    "def crossValidation(xArr,yArr,numVal = 10):\n",
    "    m = len(yArr)\n",
    "    indexList = list(range(m))  #代码这里要修改\n",
    "    #创建numVal*30的误差矩阵\n",
    "    ##30的由来：ridgeTest()使用了30个不同的lambda值来创建不同的回归系数，即numTestPts = 30\n",
    "    errorMat = zeros((numVal,30))\n",
    "    for i in range(numVal):\n",
    "        #创建训练集和测试集容器\n",
    "        trainX = [];trainY = []\n",
    "        testX = [];testY =[]\n",
    "         #打乱索引顺序，实现随机选取训练集和测试集数据点\n",
    "        random.shuffle(indexList)\n",
    "        #数据分为训练集和测试集，#90%训练+10%测试\n",
    "        for j in range(m):\n",
    "            if j < m*0.9:\n",
    "                trainX.append(xArr[indexList[j]])\n",
    "                trainY.append(yArr[indexList[j]])\n",
    "            else:\n",
    "                testX.append(xArr[indexList[j]])\n",
    "                testY.append(yArr[indexList[j]])\n",
    "        wMat = ridgeTest(trainX,trainY)#获得30组ws向量\n",
    "        for k in range(30):\n",
    "            #用训练时的参数将测试数据标准化\n",
    "            matTestX = mat(testX);\n",
    "            matTrainX = mat(trainX)\n",
    "            meanTrain = mean(matTrainX,0)\n",
    "            varTrain = var(matTrainX,0)\n",
    "            matTestX = (matTestX - meanTrain)/varTrain\n",
    "            yEst = matTestX * mat(wMat[k,:]).T +mean(trainY)\n",
    "            errorMat[i,k]=rssError(yEst.T.A,array(testY))\n",
    "    #计算不同岭回归ws下errorMat的平均值，观察平均性能  \n",
    "    #meanErrors:1*30矩阵\n",
    "    meanErrors=mean(errorMat,0)\n",
    "    minMean = float(min(meanErrors))\n",
    "     #nonzero(meanErrors==minMean)返回的是误差最小的索引，因此bestWeights为误差最小的那个w向量\n",
    "    bestWeights = wMat[nonzero(meanErrors == minMean)]\n",
    "     #岭回归使用了数据标准化，而standRegres没有，为了比较可视化，因此需要将数据还原\n",
    "    #标准化后 Xreg = (x-meanX)/var(x)，预测y=Xreg*w+meanY\n",
    "    #因此，利用未标准化的x来计算y= x*w/var(x) - meanX*w/var(x) +meanY\n",
    "    #其中unReg=w/var\n",
    "    xMat = mat(xArr)\n",
    "    yMat = mat(yArr).T\n",
    "    meanX = mean(xMat,0)\n",
    "    varX = var(xMat,0)\n",
    "    unReg = bestWeights / varX\n",
    "    #数据还原\n",
    "    print(\"the best model from Ridge Regression is:\\n\",unReg)\n",
    "     #特别注意这里的sum函数，一定是np.sum,因为一般的sum只能对list求和，而这里的参数是matrix\n",
    "    print(\"with constant term:\",-1*sum(multiply(meanX,unReg))+mean(yMat))\n",
    "          "
   ]
  },
  {
   "cell_type": "code",
   "execution_count": 114,
   "metadata": {},
   "outputs": [
    {
     "name": "stdout",
     "output_type": "stream",
     "text": [
      "the best model from Ridge Regression is:\n",
      " [[ -3.34922409e+01   4.90836452e-04   1.90316935e+01   2.08853435e+00]]\n",
      "with constant term: 67188.4053238\n"
     ]
    }
   ],
   "source": [
    "crossValidation(lgX,lgY,10)"
   ]
  },
  {
   "cell_type": "code",
   "execution_count": 115,
   "metadata": {},
   "outputs": [
    {
     "data": {
      "text/plain": [
       "array([[ -1.45288906e+02,  -8.39360442e+03,  -3.28682450e+00,\n",
       "          4.42362406e+04],\n",
       "       [ -1.46649725e+02,  -1.89952152e+03,  -2.80638599e+00,\n",
       "          4.27891633e+04],\n",
       "       [ -1.44450432e+02,   8.55488076e+02,  -1.35089285e+00,\n",
       "          4.00885735e+04],\n",
       "       [ -1.37402474e+02,   1.64217093e+03,   1.95840783e+00,\n",
       "          3.44932120e+04],\n",
       "       [ -1.24750588e+02,   1.44326171e+03,   7.62540167e+00,\n",
       "          2.50647592e+04],\n",
       "       [ -1.10234679e+02,   8.81842164e+02,   1.40617304e+01,\n",
       "          1.43874420e+04],\n",
       "       [ -9.96484167e+01,   4.17805568e+02,   1.87140361e+01,\n",
       "          6.66770425e+03],\n",
       "       [ -9.40345090e+01,   1.71289137e+02,   2.10844952e+01,\n",
       "          2.71206176e+03],\n",
       "       [ -9.11400659e+01,   6.57287394e+01,   2.20487105e+01,\n",
       "          1.03800465e+03],\n",
       "       [ -8.86246985e+01,   2.45452725e+01,   2.23181664e+01,\n",
       "          3.87564774e+02],\n",
       "       [ -8.41447674e+01,   9.05861459e+00,   2.21495534e+01,\n",
       "          1.43313895e+02],\n",
       "       [ -7.44804291e+01,   3.31863501e+00,   2.14607512e+01,\n",
       "          5.27810178e+01],\n",
       "       [ -5.68008473e+01,   1.20770663e+00,   2.00168153e+01,\n",
       "          1.93999701e+01],\n",
       "       [ -3.43546503e+01,   4.38238026e-01,   1.77836684e+01,\n",
       "          7.12719906e+00],\n",
       "       [ -1.62951276e+01,   1.59882766e-01,   1.48514658e+01,\n",
       "          2.62234165e+00],\n",
       "       [ -6.48291858e+00,   5.89025383e-02,   1.09847950e+01,\n",
       "          9.67404902e-01],\n",
       "       [ -2.35268585e+00,   2.18391027e-02,   6.61152257e+00,\n",
       "          3.57478187e-01],\n",
       "       [ -8.35001919e-01,   8.09519290e-03,   3.19552087e+00,\n",
       "          1.32007993e-01],\n",
       "       [ -2.99711902e-01,   2.99108326e-03,   1.33043325e+00,\n",
       "          4.86659524e-02],\n",
       "       [ -1.08982743e-01,   1.10249682e-03,   5.14449554e-01,\n",
       "          1.79199150e-02],\n",
       "       [ -3.99038878e-02,   4.05898142e-04,   1.92885670e-01,\n",
       "          6.59479857e-03],\n",
       "       [ -1.46534283e-02,   1.49365062e-04,   7.14631760e-02,\n",
       "          2.42642878e-03],\n",
       "       [ -5.38707897e-03,   5.49542829e-05,   2.63587872e-02,\n",
       "          8.92679468e-04],\n",
       "       [ -1.98130399e-03,   2.02173589e-05,   9.70622185e-03,\n",
       "          3.28404700e-04],\n",
       "       [ -7.28814363e-04,   7.43766021e-06,   3.57198872e-03,\n",
       "          1.20814188e-04],\n",
       "       [ -2.68106796e-04,   2.73617711e-06,   1.31423307e-03,\n",
       "          4.44451712e-05],\n",
       "       [ -9.86297565e-05,   1.00658531e-06,   4.83502591e-04,\n",
       "          1.63504803e-05],\n",
       "       [ -3.62836944e-05,   3.70302314e-07,   1.77873811e-04,\n",
       "          6.01500768e-06],\n",
       "       [ -1.33480028e-05,   1.36226645e-07,   6.54365445e-05,\n",
       "          2.21279795e-06],\n",
       "       [ -4.91045279e-06,   5.01149871e-08,   2.40728171e-05,\n",
       "          8.14042912e-07]])"
      ]
     },
     "execution_count": 115,
     "metadata": {},
     "output_type": "execute_result"
    }
   ],
   "source": [
    "ridgeTest(lgX,lgY)"
   ]
  },
  {
   "cell_type": "code",
   "execution_count": null,
   "metadata": {
    "collapsed": true
   },
   "outputs": [],
   "source": []
  }
 ],
 "metadata": {
  "kernelspec": {
   "display_name": "Python 3",
   "language": "python",
   "name": "python3"
  },
  "language_info": {
   "codemirror_mode": {
    "name": "ipython",
    "version": 3
   },
   "file_extension": ".py",
   "mimetype": "text/x-python",
   "name": "python",
   "nbconvert_exporter": "python",
   "pygments_lexer": "ipython3",
   "version": "3.6.3"
  }
 },
 "nbformat": 4,
 "nbformat_minor": 2
}
