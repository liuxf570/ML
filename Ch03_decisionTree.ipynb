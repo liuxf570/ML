{
 "cells": [
  {
   "cell_type": "markdown",
   "metadata": {},
   "source": [
    "##  决策树的一般流程\n",
    "#### （1）收集数据：可以使用任何方法\n",
    "#### （2）准备数据： 树构造算法值适用于标称型数据（结果只在有限目标集中取，如真与假），因此数值型数据必须离散化\n",
    "#### （3）分析数据： 构造树完成之后，应该检查图形是否符合预期\n",
    "#### （4）训练算法：构造树的数据结构\n",
    "#### （5）测试算法：使用经验树计算错误率\n",
    "#### （6）使用算法：此步骤可以适用于任何监督学习算法，而使用决策树可以更好地理解数据的内在含义"
   ]
  },
  {
   "cell_type": "markdown",
   "metadata": {},
   "source": [
    "## 创建分支的伪代码递归函数 createBranch():"
   ]
  },
  {
   "cell_type": "markdown",
   "metadata": {},
   "source": [
    "#### 检测数据集中的每个子项是否属于同一分类：\n",
    "####    &emsp;If so return 类标签\n",
    "####   &emsp;Else\n",
    "####   &emsp;&emsp;寻找划分数据集的最好特征\n",
    "####   &emsp;&emsp;划分数据集\n",
    "####   &emsp;&emsp; 创建分支节点\n",
    "####    &emsp;&emsp; for 每个划分的子集\n",
    "####    &emsp;&emsp; &emsp; 调用函数createBranch并增加返回结果到分支节点中\n",
    "####    &emsp;&emsp; return 分支节点\n"
   ]
  },
  {
   "cell_type": "code",
   "execution_count": 74,
   "metadata": {},
   "outputs": [
    {
     "ename": "SyntaxError",
     "evalue": "invalid character in identifier (<ipython-input-74-cb7f8657b654>, line 1)",
     "output_type": "error",
     "traceback": [
      "\u001b[1;36m  File \u001b[1;32m\"<ipython-input-74-cb7f8657b654>\"\u001b[1;36m, line \u001b[1;32m1\u001b[0m\n\u001b[1;33m    补充功能：　在 Markdown 文档中，可以直接采用 HTML 标记插入空格（blank space），而且无需任何其他前缀或分隔符。具体如下所示：\u001b[0m\n\u001b[1;37m         　^\u001b[0m\n\u001b[1;31mSyntaxError\u001b[0m\u001b[1;31m:\u001b[0m invalid character in identifier\n"
     ]
    }
   ],
   "source": [
    "补充功能：　在 Markdown 文档中，可以直接采用 HTML 标记插入空格（blank space），而且无需任何其他前缀或分隔符。具体如下所示：\n",
    "\n",
    "插入一个空格 (non-breaking space)\n",
    "　　　　&nbsp;    或    &#160;     或      &#xA0;\n",
    "\n",
    "插入两个空格 (en space)\n",
    "　　　　&ensp;     或    &#8194;   或      &#x2002;\n",
    "\n",
    "插入四个空格 (em space)\n",
    "　　　　&emsp;    或    &#8195;   或      &#x2003;\n",
    "\n",
    "插入细空格 (thin space)\n",
    "　　　　&thinsp;   或     &#8201;  或      &#x2009;"
   ]
  },
  {
   "cell_type": "markdown",
   "metadata": {},
   "source": [
    "## 程序清单3-1 计算给定数据集的香农熵\n",
    "###   熵(entropy)定义为信息的期望值：   &emsp;    $l(x_{i})=-\\log_{2} p(x_{i})$\n",
    "###  计算熵，需要计算所有类别所有可能值包含的信息期望值：\n",
    "### &emsp; $H = -\\sum_{i=1}^{n}p(x_{i})\\log_{_{2}}p(x_{i})$"
   ]
  },
  {
   "cell_type": "code",
   "execution_count": 75,
   "metadata": {
    "collapsed": true
   },
   "outputs": [],
   "source": [
    "from math import log\n",
    "def calcShannonEnt(dataSet):          #熵（entropy）：定义为信息的期望值   信息增益（information gain）\n",
    "    numEntries = len(dataSet)\n",
    "    #print(numEntries)\n",
    "    labelCounts={}\n",
    "    #print(labelCounts)\n",
    "    for featVec in dataSet:\n",
    "        currentLabel = featVec[-1]\n",
    "        #print(currentLabel)\n",
    "        if currentLabel not in labelCounts.keys():\n",
    "            labelCounts[currentLabel] = 0\n",
    "        labelCounts[currentLabel] += 1\n",
    "        #print(labelCounts)   # 字典\n",
    "    shannonEnt = 0.0\n",
    "    for key in labelCounts:\n",
    "        prob = float(labelCounts[key])/numEntries\n",
    "        shannonEnt -= prob * log(prob,2)   #(-0.4*log(0.4,2)-0.6*log(0.6,2))\n",
    "    return shannonEnt\n"
   ]
  },
  {
   "cell_type": "code",
   "execution_count": 76,
   "metadata": {
    "collapsed": true
   },
   "outputs": [],
   "source": [
    "def createDataSet():\n",
    "    dataSet = [[1, 1, 'yes'],\n",
    "               [1, 1, 'yes'],\n",
    "               [1, 0, 'no'],\n",
    "               [0, 1, 'no'],\n",
    "               [0, 1, 'no']]\n",
    "    labels = ['no surfacing','flippers']  \n",
    "    return dataSet, labels\n",
    "myDat,labels = createDataSet()"
   ]
  },
  {
   "cell_type": "code",
   "execution_count": 77,
   "metadata": {},
   "outputs": [
    {
     "data": {
      "text/plain": [
       "0.9709505944546686"
      ]
     },
     "execution_count": 77,
     "metadata": {},
     "output_type": "execute_result"
    }
   ],
   "source": [
    " calcShannonEnt(myDat)"
   ]
  },
  {
   "cell_type": "code",
   "execution_count": 78,
   "metadata": {},
   "outputs": [
    {
     "name": "stdout",
     "output_type": "stream",
     "text": [
      "0.9709505944546686\n"
     ]
    }
   ],
   "source": [
    "print(-0.4*log(0.4,2)-0.6*log(0.6,2))\n",
    "# 熵越高，则混合的数据也越多"
   ]
  },
  {
   "cell_type": "code",
   "execution_count": 79,
   "metadata": {},
   "outputs": [
    {
     "data": {
      "text/plain": [
       "[[1, 1, 'maybe'], [1, 1, 'yes'], [1, 0, 'no'], [0, 1, 'no'], [0, 1, 'no']]"
      ]
     },
     "execution_count": 79,
     "metadata": {},
     "output_type": "execute_result"
    }
   ],
   "source": [
    "myDat[0][-1] = 'maybe'\n",
    "myDat[0][1] = 1\n",
    "myDat\n"
   ]
  },
  {
   "cell_type": "code",
   "execution_count": 80,
   "metadata": {},
   "outputs": [
    {
     "data": {
      "text/plain": [
       "1.3709505944546687"
      ]
     },
     "execution_count": 80,
     "metadata": {},
     "output_type": "execute_result"
    }
   ],
   "source": [
    " calcShannonEnt(myDat)"
   ]
  },
  {
   "cell_type": "code",
   "execution_count": 81,
   "metadata": {
    "collapsed": true
   },
   "outputs": [],
   "source": [
    "# 熵越高，则混合的数据也越多,得到熵之后，我们就可以按照获取最大信息增益的方法划分数据集"
   ]
  },
  {
   "cell_type": "markdown",
   "metadata": {},
   "source": [
    "##  程序清单3-2 按照给定特征划分数据集"
   ]
  },
  {
   "cell_type": "code",
   "execution_count": 82,
   "metadata": {},
   "outputs": [
    {
     "name": "stdout",
     "output_type": "stream",
     "text": [
      "[[1, 1, 'yes'], [1, 1, 'yes'], [1, 0, 'no'], [0, 1, 'no'], [0, 1, 'no']]\n",
      "[[1, 'yes'], [1, 'yes'], [0, 'no']]\n",
      "[[1, 'no'], [1, 'no']]\n",
      "['no surfacing', 'flippers']\n",
      "no surfacing\n"
     ]
    }
   ],
   "source": [
    "# 参数说明： 待划分的数据集，划分数据集的特征，需要返回的特征值\n",
    "def splitDataSet(dataSet,axis,value):\n",
    "    retDataSet = []                  # 创建list新对象\n",
    "    '''\n",
    "    for featVec in dataSet:\n",
    "        print(featVec)\n",
    "        if featVec[axis] == value:\n",
    "            print(featVec[axis])\n",
    "            reducedFeatVec = featVec[:axis]\n",
    "            print(reducedFeatVec)\n",
    "            reducedFeatVec.extend(featVec[axis+1:])\n",
    "            print(featVec[axis+1:])\n",
    "            retDataSet.append(reducedFeatVec)         # 抽取\n",
    "            print(retDataSet)\n",
    "    '''\n",
    "    for featVec in dataSet: #dataset中各元素是列表,遍历每个列表\n",
    "        if featVec[axis] == value: #找出第axis元素为value的行\n",
    "            reducedFeatVec = featVec[:axis]   #抽取符合特征的数据,切片\n",
    "            reducedFeatVec.extend(featVec[axis+1:]) #把抽取出该特征以后的所有特征组成一个列表\n",
    "            retDataSet.append(reducedFeatVec)   #创建抽取该特征以后的dataset\n",
    "   \n",
    "    return retDataSet\n",
    "myDat,labels = createDataSet()\n",
    "print(myDat)\n",
    "print(splitDataSet(myDat,0,1) )\n",
    "print(splitDataSet(myDat,0,0))\n",
    "print(labels)\n",
    "print(labels[0])"
   ]
  },
  {
   "cell_type": "markdown",
   "metadata": {},
   "source": [
    "## 程序清单3-3 选择最好的数据集划分方式"
   ]
  },
  {
   "cell_type": "code",
   "execution_count": 83,
   "metadata": {},
   "outputs": [
    {
     "data": {
      "text/plain": [
       "0"
      ]
     },
     "execution_count": 83,
     "metadata": {},
     "output_type": "execute_result"
    }
   ],
   "source": [
    "def chooseBestFeatureToSplit(dataSet):\n",
    "    numFeatures = len(dataSet[0])-1\n",
    "    baseEntropy = calcShannonEnt(dataSet)\n",
    "    bestInfoGain = 0.0\n",
    "    bestFeature = -1\n",
    "    for i in range(numFeatures):\n",
    "        featList = [example[i] for example in dataSet]\n",
    "        #语句featList = [example[i] for example in dataSet]作用为：\n",
    "        #将dataSet中的数据先按行依次放入example中，然后取得example中的example[i]元素，放入列表featList中\n",
    "        #语句classList = [example[-1] for example in dataSet]作用为：\n",
    "        #将dataSet中的数据先按行依次放入example中，然后取得example中的example[-1]元素，放入列表classList中\n",
    "        #对数据的遍历一般都是按行，这是取其列的方法！！\n",
    "        #print(featList)\n",
    "        #创建唯一的分类标签列表\n",
    "        uniqueVals = set(featList)           \n",
    "        #计算每种划分方式的信息熵\n",
    "        newEntropy = 0.0\n",
    "        for value  in uniqueVals:\n",
    "            subDataSet = splitDataSet(dataSet,i,value)\n",
    "            prob = len(subDataSet)/float(len(dataSet))\n",
    "            newEntropy+=prob * calcShannonEnt(subDataSet)\n",
    "        #计算最好的信息增益\n",
    "        infoGain = baseEntropy - newEntropy\n",
    "        if(infoGain > bestInfoGain):\n",
    "            bestInfoGain = infoGain\n",
    "            bestFeature = i\n",
    "    return bestFeature\n",
    "\n",
    "chooseBestFeatureToSplit(myDat)\n"
   ]
  },
  {
   "cell_type": "code",
   "execution_count": 84,
   "metadata": {},
   "outputs": [
    {
     "name": "stdout",
     "output_type": "stream",
     "text": [
      "[('no', 3), ('yes', 2)]\n"
     ]
    },
    {
     "data": {
      "text/plain": [
       "'no'"
      ]
     },
     "execution_count": 84,
     "metadata": {},
     "output_type": "execute_result"
    }
   ],
   "source": [
    "import operator\n",
    "def majorityCnt(classList):\n",
    "    classCount={}\n",
    "    for vote in classList:\n",
    "        #print(vote)\n",
    "        if vote not in classCount.keys(): classCount[vote]=0\n",
    "        classCount[vote] += 1\n",
    "        #print(classCount)\n",
    "    #sortedClassCount = sorted(classCount.iteritems(),key=operator.itemgetter(1),reverse=True)\n",
    "    sortedClassCount = sorted(classCount.items(), key=operator.itemgetter(1), reverse=True)\n",
    "    print(sortedClassCount)\n",
    "    return sortedClassCount[0][0]\n",
    "\n",
    "classList = [example[-1] for example in myDat]\n",
    "majorityCnt(classList)"
   ]
  },
  {
   "cell_type": "markdown",
   "metadata": {},
   "source": [
    "## 程序清单3-4 创建树的函数代码\n"
   ]
  },
  {
   "cell_type": "code",
   "execution_count": 85,
   "metadata": {},
   "outputs": [
    {
     "name": "stdout",
     "output_type": "stream",
     "text": [
      "['yes', 'yes', 'no', 'no', 'no']\n",
      "2\n",
      "5\n",
      "['no', 'no']\n",
      "2\n",
      "2\n",
      "no surfacing\n",
      "0\n",
      "['yes', 'yes', 'no']\n",
      "2\n",
      "3\n",
      "['no']\n",
      "1\n",
      "1\n",
      "flippers\n",
      "0\n",
      "['yes', 'yes']\n",
      "2\n",
      "2\n",
      "flippers\n",
      "1\n",
      "no surfacing\n",
      "1\n"
     ]
    },
    {
     "data": {
      "text/plain": [
       "{'no surfacing': {0: 'no', 1: {'flippers': {0: 'no', 1: 'yes'}}}}"
      ]
     },
     "execution_count": 85,
     "metadata": {},
     "output_type": "execute_result"
    }
   ],
   "source": [
    "# 函数参数： 数据集 和 标签列表\n",
    "def createTree(dataSet,labels):\n",
    "    classList = [example[-1] for example in dataSet]\n",
    "    print(classList)\n",
    "    print(classList.count(classList[0]))\n",
    "    print(len(classList))\n",
    "    # 类别完全相同泽停止继续划分\n",
    "    if classList.count(classList[0]) == len(classList):\n",
    "        return classList[0] \n",
    "    # 遍历完所有特征时返回出现次数最多的\n",
    "    if len(dataSet[0]) == 1:\n",
    "        return majorityCnt(classList)  #majorityCnt 挑选出现次数最多的类别作为返回值\n",
    "    bestFeat = chooseBestFeatureToSplit(dataSet)\n",
    "    bestFeatLabel = labels[bestFeat]\n",
    "    myTree = {bestFeatLabel:{}}\n",
    "    del(labels[bestFeat])\n",
    "    # 得到列表包含的所有属性值\n",
    "    featValues = [example[bestFeat] for example in dataSet]\n",
    "    #print(featValues)\n",
    "    uniqueVals = set(featValues)\n",
    "    #print(uniqueVals)\n",
    "    for value in uniqueVals:\n",
    "        subLabels = labels[:]\n",
    "        #print(subLabels)\n",
    "        myTree[bestFeatLabel][value] = createTree(splitDataSet(dataSet,bestFeat,value),subLabels)\n",
    "        print(bestFeatLabel)\n",
    "        print(value)\n",
    "        #print(myTree[bestFeatLabel][value])\n",
    "        #[[1, 'no'], [1, 'no']]  print(splitDataSet(myDat,0,0))\n",
    "        #[[1, 'yes'], [1, 'yes'], [0, 'no']]  print(splitDataSet(myDat,0,1) )\n",
    "    return myTree\n",
    "\n",
    "createTree(myDat,labels)\n",
    "\n",
    "#myDat = [[1, 'no'], [1, 'no']]\n",
    "#classList = [example[-1] for example in myDat]\n",
    "#print(classList)"
   ]
  },
  {
   "cell_type": "markdown",
   "metadata": {},
   "source": [
    "## 程序清单3-5 使用文本注解绘制树节点 annotations\n"
   ]
  },
  {
   "cell_type": "code",
   "execution_count": 86,
   "metadata": {
    "collapsed": true
   },
   "outputs": [],
   "source": [
    "\n",
    "import matplotlib.pyplot as plt\n",
    "# 定义文本框 和箭头格式\n",
    "decisionNode = dict(boxstyle=\"sawtooth\",fc = \"0.8\") \n",
    "# 创建字典。 boxstyle=”sawtooth” 表示 注解框的边缘是波浪线，fc=”0.8” 是颜色深度\n",
    "#help(dict)\n",
    "leafNode = dict(boxstyle=\"round4\",fc=\"0.8\")\n",
    "arrow_args = dict(arrowstyle = \"<-\")\n",
    "\n",
    "\n",
    "'''\n",
    "函数说明：使用matplotlib绘制树节点\n",
    "参数：nodeText -- 节点注解\n",
    "      centerPt -- 子节点\n",
    "      parentPt -- 父节点\n",
    "      nodeType -- 节点类型\n",
    "返回值： 无\n",
    "\n",
    "'''\n",
    "def plotNode(nodeTxt, centerPt, parentPt, nodeType):\n",
    "    createPlot.ax1.annotate(nodeTxt, xy=parentPt,  xycoords='axes fraction',xytext=centerPt, textcoords='axes fraction',\n",
    "                            va=\"center\", ha=\"center\", bbox=nodeType, arrowprops=arrow_args )\n",
    "    \n",
    "\n",
    "# node_txt: 节点的名字；\n",
    "# xy: 被注解的东西的位置，在决策树中为上一个节点的位置\n",
    "# xycoords:被注解的东西依据的坐标原点位置，是以图像还是坐标轴\n",
    "# xytext: 注解内容的中心坐标\n",
    "# textcoords:注解内容依据的坐标原点位置\n",
    "# va: horizontal alignment 文本中内容竖向对齐方式\n",
    "# ha: vertical alignment 文本中的内容 横向对齐方式\n",
    "# arrowprops: 标记线的类型，是一个字典，如果字典中包含key为arrowstyle的，则默认类别有'->'等\n",
    "# bbox: 对方框的设置\n",
    "#https://matplotlib.org/users/annotations_guide.html 说明文档\n",
    "\n",
    "\n",
    "#plotNode函数有nodeTxt,centerPt, parentPt, nodeType这四个参数。\n",
    " # nodeTxt是注释的文本信息。centerPt表示那个节点框的位置。\n",
    "#  parentPt表示那个箭头的起始位置（终点坐标）。nodeType表示的是节点的类型，\n",
    "#  也就会用我们之前定义的全局变量。\n",
    "#xytext是起点坐标  \n",
    "#va=\"center\",ha=\"center\"是坐标的水平中心和垂直中心\n",
    "#annotate是注释的意思,也就是作为原来那个框的注释，也是添加一些新的东西\n",
    "#arrowprops=arrow_args是标记线的类型，\n"
   ]
  },
  {
   "cell_type": "code",
   "execution_count": 87,
   "metadata": {},
   "outputs": [
    {
     "data": {
      "image/png": "[encoded data removed]",
      "text/plain": [
       "<matplotlib.figure.Figure at 0x7ff07f0>"
      ]
     },
     "metadata": {},
     "output_type": "display_data"
    }
   ],
   "source": [
    "def createPlot():\n",
    "    fig = plt.figure(1,facecolor='white')# 创建一个新图形\n",
    "    fig.clf()#  清空绘图区\n",
    "    plt.rcParams['font.sans-serif'] = 'SimHei'  #设置中文显示\n",
    "    createPlot.ax1 = plt.subplot(111,frameon = False) \n",
    "    #创建1行1列 从第一个子图开始叠加图层时 frameon必须设置成False，不然会覆盖下面的图层\n",
    "    plotNode('决策节点',(0.5,0.1),(0.1,0.5),decisionNode)\n",
    "    plotNode('叶节点',(0.8,0.1),(0.3,0.8),leafNode)\n",
    "    plt.show()\n",
    "\n",
    "createPlot()"
   ]
  },
  {
   "cell_type": "markdown",
   "metadata": {},
   "source": [
    "## 程序清单3-6 获取叶节点的数目和树的层数"
   ]
  },
  {
   "cell_type": "code",
   "execution_count": 88,
   "metadata": {},
   "outputs": [
    {
     "data": {
      "text/plain": [
       "{'no surfacing': {0: 'no',\n",
       "  1: {'flippers': {0: {'head': {0: 'no', 1: 'yes'}}, 1: 'no'}}}}"
      ]
     },
     "execution_count": 88,
     "metadata": {},
     "output_type": "execute_result"
    }
   ],
   "source": [
    "def getNumLeafs(myTree):\n",
    "    numLeafs = 0\n",
    "    #print(myTree.keys())\n",
    "    firstStr = list(myTree.keys())[0]  # 找到输入的第一个元素,第一个关键词为划分数据集类别的标签\n",
    "    #print(firstStr)\n",
    "    # python3改变了dict.keys,返回的是dict_keys对象,支持iterable 但不支持indexable，将其明确的转化成list：\n",
    "    secondDict = myTree[firstStr]   #myTree经过第一个特征值分类后的字典\n",
    "    #print(secondDict)  \n",
    "    for key in secondDict.keys():\n",
    "        # 测试节点的数据类型是否为字典\n",
    "        if type(secondDict[key]).__name__=='dict': \n",
    "            # type(secondDict[key]).__name__输出的是括号里面的变量的类型，即判断secondDict[key]对应的内容是否为字典类型\n",
    "            numLeafs += getNumLeafs(secondDict[key])\n",
    "        else: numLeafs += 1\n",
    "    return numLeafs\n",
    "\n",
    "def getTreeDepth(myTree):\n",
    "    maxDepth = 0\n",
    "    firstStr = list(myTree.keys())[0]\n",
    "    secondDict = myTree[firstStr]\n",
    "    for key in secondDict.keys():\n",
    "        # 测试节点的数据类型是否为字典\n",
    "        if type(secondDict[key]).__name__=='dict':\n",
    "            thisDepth = 1 + getTreeDepth(secondDict[key])\n",
    "        else:    thisDepth = 1\n",
    "        if thisDepth > maxDepth: maxDepth = thisDepth\n",
    "    return maxDepth\n",
    "\n",
    "def retrieveTree(i):\n",
    "    listOfTrees =[{'no surfacing': {0: 'no', 1: {'flippers': {0: 'no', 1: 'yes'}}}},\n",
    "                  {'no surfacing': {0: 'no', 1: {'flippers': {0: {'head': {0: 'no', 1: 'yes'}}, 1: 'no'}}}}\n",
    "                  ]\n",
    "    return listOfTrees[i]\n",
    "\n",
    "retrieveTree(1)"
   ]
  },
  {
   "cell_type": "code",
   "execution_count": 89,
   "metadata": {},
   "outputs": [
    {
     "name": "stdout",
     "output_type": "stream",
     "text": [
      "3\n",
      "2\n"
     ]
    }
   ],
   "source": [
    "myTree = retrieveTree(0)\n",
    "print(getNumLeafs(myTree))\n",
    "print(getTreeDepth(myTree))"
   ]
  },
  {
   "cell_type": "markdown",
   "metadata": {},
   "source": [
    "## 程序3-7 plotTree 函数"
   ]
  },
  {
   "cell_type": "code",
   "execution_count": 93,
   "metadata": {
    "collapsed": true
   },
   "outputs": [],
   "source": [
    "# 在父子节点间填充文本信息\n",
    "def plotMidText(cntrPt,parentPt,txtString):\n",
    "    xMid = (parentPt[0]-cntrPt[0])/2.0 + cntrPt[0]\n",
    "    yMid = (parentPt[1]-cntrPt[1])/2.0 + cntrPt[1]\n",
    "    createPlot.ax1.text(xMid,yMid,txtString,va=\"center\", ha=\"center\", rotation=30)#  在两个节点之间的线上写上字\n",
    "  \n",
    "    \n",
    "def plotTree(myTree,parentPt,nodeTxt):\n",
    "    # 计算宽与高\n",
    "    numLeafs = getNumLeafs(myTree)\n",
    "    depth = getTreeDepth(myTree)\n",
    "    firstStr = list(myTree.keys())[0]\n",
    "    cntrPt = (plotTree.xOff + (1.0 +float(numLeafs))/2.0/plotTree.totalW,plotTree.yOff)\n",
    "    #cntrPt用来记录当前要画的树的树根的结点位置\n",
    "    # plotTree.xOff和plotTree.yOff是用来追踪已经绘制的节点位置，plotTree.totalW为这个数的宽度，叶节点数\n",
    "    #cntrPt用来记录当前要画的树的树根的结点位置在plotTree函数中，它是这样计算的\n",
    "    # cntrPt = (plotTree.xOff + (1.0 + float(numLeafs)) / 2.0 / plotTree.totalW, plotTree.yOff)\n",
    "    # numLeafs记录当前的树中叶子结点个数。我们希望树根在这些所有叶子节点的中间\n",
    "    # plotTree.xOff + (1.0 + float(numLeafs)) / 2.0 / plotTree.totalW 这里的\n",
    "    # 1.0 + numLeafs 需要拆开来理解，也就是\n",
    "    # plotTree.xOff + float(numLeafs) / 2.0 / plotTree.totalW + 1.0 / 2.0 / plotTree.totalW\n",
    "    # plotTree.xOff + 1 / 2 * float(numLeafs) / plotTree.totalW + 0.5 / plotTree.totalW\n",
    "    # 因为xOff的初始值是 - 0.5 / plotTree.totalW ，是往左偏了0.5 / plotTree.tatalW的，\n",
    "    # 这里正好加回去。这样cntrPt记录的x坐标正好是所有叶子结点的中心点'''\n",
    "\n",
    "    \n",
    "    #标记子节点属性值\n",
    "    plotMidText(cntrPt,parentPt,nodeTxt)\n",
    "    plotNode(firstStr,cntrPt,parentPt,decisionNode) #firstStr为需要显示的文本，cntrPt为文本的中心点，\n",
    "                                                   # parentPt为箭头指向文本的起始点，decisionNode为文本属性\n",
    "    secondDict = myTree[firstStr]  #子树\n",
    "    plotTree.yOff = plotTree.yOff - 1.0/plotTree.totalD  #totalD是这个树的深度，深度移下一层,初始值为1\n",
    "    # 减少y的值，将树的总深度平分，每次减少移动一点(向下，因为树是自顶向下画的）\n",
    "    for key in secondDict.keys():\n",
    "        # 测试节点的数据类型是否为字典\n",
    "        if type(secondDict[key]).__name__=='dict':\n",
    "            plotTree(secondDict[key],cntrPt,str(key))\n",
    "        else: \n",
    "            plotTree.xOff = plotTree.xOff + 1.0/plotTree.totalW #x坐标平移一个单位\n",
    "            plotNode(secondDict[key],(plotTree.xOff,plotTree.yOff),cntrPt,leafNode)#画叶节点\n",
    "            plotMidText((plotTree.xOff,plotTree.yOff),cntrPt,str(key))#显示箭头文本\n",
    "    plotTree.yOff = plotTree.yOff + 1.0/plotTree.totalD   #下移一层深度\n",
    "\n",
    "def createPlot(inTree):\n",
    "    fig = plt.figure(1,facecolor='white')# 创建一个新图形\n",
    "    fig.clf()#  清空绘图区\n",
    "    #plt.rcParams['font.sans-serif'] = 'SimHei'  #设置中文显示\n",
    "    axprops = dict(xticks=[],yticks=[])\n",
    "    createPlot.ax1 = plt.subplot(111,frameon=False,**axprops)\n",
    "    createPlot.ax1 = plt.subplot(111, frameon=False, **axprops)\n",
    "    plotTree.totalW = float(getNumLeafs(inTree)) # 创建两个全局变量存储树的宽度和深度\n",
    "    plotTree.totalD = float(getTreeDepth(inTree))\n",
    "    plotTree.xOff = -0.5/plotTree.totalW; plotTree.yOff = 1.0;# 追踪已经绘制的节点位置 初始值为 将总宽度平分 在取第一个的一半\n",
    "    plotTree(inTree, (0.5,1.0), '')   # 1.0  写成0.1 导致错误 调试好久\n",
    "    plt.show()\n"
   ]
  },
  {
   "cell_type": "code",
   "execution_count": 91,
   "metadata": {},
   "outputs": [
    {
     "name": "stderr",
     "output_type": "stream",
     "text": [
      "E:\\Anaconda3\\lib\\site-packages\\matplotlib\\cbook\\deprecation.py:106: MatplotlibDeprecationWarning: Adding an axes using the same arguments as a previous axes currently reuses the earlier instance.  In a future version, a new instance will always be created and returned.  Meanwhile, this warning can be suppressed, and the future behavior ensured, by passing a unique label to each axes instance.\n",
      "  warnings.warn(message, mplDeprecation, stacklevel=1)\n"
     ]
    },
    {
     "data": {
      "image/png": "[encoded data removed]",
      "text/plain": [
       "<matplotlib.figure.Figure at 0x7f6d2b0>"
      ]
     },
     "metadata": {},
     "output_type": "display_data"
    },
    {
     "data": {
      "text/plain": [
       "{'no surfacing': {0: 'no', 1: {'flippers': {0: 'no', 1: 'yes'}}, 3: 'maybe'}}"
      ]
     },
     "execution_count": 91,
     "metadata": {},
     "output_type": "execute_result"
    }
   ],
   "source": [
    "createPlot(myTree)\n",
    "myTree['no surfacing'][3] = 'maybe'\n",
    "myTree"
   ]
  },
  {
   "cell_type": "code",
   "execution_count": 92,
   "metadata": {},
   "outputs": [
    {
     "name": "stderr",
     "output_type": "stream",
     "text": [
      "E:\\Anaconda3\\lib\\site-packages\\matplotlib\\cbook\\deprecation.py:106: MatplotlibDeprecationWarning: Adding an axes using the same arguments as a previous axes currently reuses the earlier instance.  In a future version, a new instance will always be created and returned.  Meanwhile, this warning can be suppressed, and the future behavior ensured, by passing a unique label to each axes instance.\n",
      "  warnings.warn(message, mplDeprecation, stacklevel=1)\n"
     ]
    },
    {
     "data": {
      "image/png": "[encoded data removed]",
      "text/plain": [
       "<matplotlib.figure.Figure at 0x3772f60>"
      ]
     },
     "metadata": {},
     "output_type": "display_data"
    }
   ],
   "source": [
    "myTree = retrieveTree(1)\n",
    "createPlot(myTree)"
   ]
  },
  {
   "cell_type": "code",
   "execution_count": 285,
   "metadata": {},
   "outputs": [
    {
     "data": {
      "image/png": "[encoded data removed]",
      "text/plain": [
       "<matplotlib.figure.Figure at 0xa086780>"
      ]
     },
     "metadata": {},
     "output_type": "display_data"
    }
   ],
   "source": [
    "\n",
    "def getNumLeafs(myTree):\n",
    "    numLeafs = 0\n",
    "    firstStr = list(myTree.keys())[0]\n",
    "    secondDict = myTree[firstStr]\n",
    "    for key in secondDict.keys():\n",
    "        if type(secondDict[key]).__name__=='dict':#test to see if the nodes are dictonaires, if not they are leaf nodes\n",
    "            numLeafs += getNumLeafs(secondDict[key])\n",
    "        else:   numLeafs +=1\n",
    "    return numLeafs\n",
    "\n",
    "def getTreeDepth(myTree):\n",
    "    maxDepth = 0\n",
    "    firstStr = list(myTree.keys())[0]\n",
    "    secondDict = myTree[firstStr]\n",
    "    for key in secondDict.keys():\n",
    "        if type(secondDict[key]).__name__=='dict':#test to see if the nodes are dictonaires, if not they are leaf nodes\n",
    "            thisDepth = 1 + getTreeDepth(secondDict[key])\n",
    "        else:   thisDepth = 1\n",
    "        if thisDepth > maxDepth: maxDepth = thisDepth\n",
    "    return maxDepth\n",
    "\n",
    "def plotNode(nodeTxt, centerPt, parentPt, nodeType):\n",
    "    createPlot.ax1.annotate(nodeTxt, xy=parentPt,  xycoords='axes fraction',\n",
    "             xytext=centerPt, textcoords='axes fraction',\n",
    "             va=\"center\", ha=\"center\", bbox=nodeType, arrowprops=arrow_args )\n",
    "    \n",
    "def plotMidText(cntrPt, parentPt, txtString):\n",
    "    xMid = (parentPt[0]-cntrPt[0])/2.0 + cntrPt[0]\n",
    "    yMid = (parentPt[1]-cntrPt[1])/2.0 + cntrPt[1]\n",
    "    createPlot.ax1.text(xMid, yMid, txtString, va=\"center\", ha=\"center\", rotation=30)\n",
    "\n",
    "def plotTree(myTree, parentPt, nodeTxt):#if the first key tells you what feat was split on\n",
    "    numLeafs = getNumLeafs(myTree)  #this determines the x width of this tree\n",
    "    depth = getTreeDepth(myTree)\n",
    "    firstStr = list(myTree.keys())[0]     #the text label for this node should be this\n",
    "    cntrPt = (plotTree.xOff + (1.0 + float(numLeafs))/2.0/plotTree.totalW, plotTree.yOff)\n",
    "    plotMidText(cntrPt, parentPt, nodeTxt)\n",
    "    plotNode(firstStr, cntrPt, parentPt, decisionNode)\n",
    "    secondDict = myTree[firstStr]\n",
    "    plotTree.yOff = plotTree.yOff - 1.0/plotTree.totalD\n",
    "    for key in secondDict.keys():\n",
    "        if type(secondDict[key]).__name__=='dict':#test to see if the nodes are dictonaires, if not they are leaf nodes   \n",
    "            plotTree(secondDict[key],cntrPt,str(key))        #recursion\n",
    "        else:   #it's a leaf node print the leaf node\n",
    "            plotTree.xOff = plotTree.xOff + 1.0/plotTree.totalW\n",
    "            plotNode(secondDict[key], (plotTree.xOff, plotTree.yOff), cntrPt, leafNode)\n",
    "            plotMidText((plotTree.xOff, plotTree.yOff), cntrPt, str(key))\n",
    "    plotTree.yOff = plotTree.yOff + 1.0/plotTree.totalD\n",
    "#if you do get a dictonary you know it's a tree, and the first element will be another dict\n",
    "\n",
    "def createPlot(inTree):\n",
    "    fig = plt.figure(1, facecolor='white')\n",
    "    fig.clf()\n",
    "    axprops = dict(xticks=[], yticks=[])\n",
    "    createPlot.ax1 = plt.subplot(111, frameon=False, **axprops)    #no ticks\n",
    "    #createPlot.ax1 = plt.subplot(111, frameon=False) #ticks for demo puropses \n",
    "    plotTree.totalW = float(getNumLeafs(inTree))\n",
    "    plotTree.totalD = float(getTreeDepth(inTree))\n",
    "    plotTree.xOff = -0.5/plotTree.totalW; plotTree.yOff = 1.0;\n",
    "    plotTree(inTree, (0.5,1.0), '')\n",
    "    plt.show()\n",
    "createPlot(myTree)\n",
    "\n",
    "#myTree = retrieveTree(1)\n",
    "#createPlot(myTree)"
   ]
  },
  {
   "cell_type": "code",
   "execution_count": 279,
   "metadata": {},
   "outputs": [
    {
     "name": "stdout",
     "output_type": "stream",
     "text": [
      "no surfacing\n",
      "{0: 'no', 1: {'flippers': {0: 'no', 1: 'yes'}}}\n",
      "0\n",
      "dict_keys([0, 1])\n",
      "no\n",
      "{'flippers': {0: 'no', 1: 'yes'}}\n",
      "flippers\n",
      "{0: 'no', 1: 'yes'}\n",
      "1\n",
      "dict_keys([0, 1])\n",
      "no\n",
      "yes\n"
     ]
    },
    {
     "data": {
      "text/plain": [
       "'no'"
      ]
     },
     "execution_count": 279,
     "metadata": {},
     "output_type": "execute_result"
    }
   ],
   "source": [
    "def classify(inputTree,featLabels,testVec):\n",
    "    firstStr = list(inputTree.keys())[0]\n",
    "    print(firstStr)\n",
    "    secondDict = inputTree[firstStr]\n",
    "    print(secondDict)\n",
    "    featIndex = featLabels.index(firstStr)\n",
    "    print(featIndex)\n",
    "    print(secondDict.keys())\n",
    "    for key in secondDict.keys():\n",
    "        print(secondDict[key]) \n",
    "        if testVec[featIndex] == key:\n",
    "            if type(secondDict[key]).__name__ =='dict':\n",
    "                classLabel = classify(secondDict[key],featLabels,testVec)\n",
    "            else:   classLabel = secondDict[key] \n",
    "    return classLabel\n",
    "myDat,labels = createDataSet()\n",
    "myTree = retrieveTree(0)\n",
    "classify(myTree,labels,[1,0])\n"
   ]
  },
  {
   "cell_type": "code",
   "execution_count": 236,
   "metadata": {},
   "outputs": [
    {
     "name": "stdout",
     "output_type": "stream",
     "text": [
      "no surfacing\n",
      "{0: 'no', 1: {'flippers': {0: 'no', 1: 'yes'}}}\n",
      "0\n",
      "dict_keys([0, 1])\n",
      "no\n",
      "{'flippers': {0: 'no', 1: 'yes'}}\n",
      "flippers\n",
      "{0: 'no', 1: 'yes'}\n",
      "1\n",
      "dict_keys([0, 1])\n",
      "no\n",
      "yes\n"
     ]
    },
    {
     "data": {
      "text/plain": [
       "'yes'"
      ]
     },
     "execution_count": 236,
     "metadata": {},
     "output_type": "execute_result"
    }
   ],
   "source": [
    "classify(myTree,labels,[1,1])"
   ]
  },
  {
   "cell_type": "code",
   "execution_count": 237,
   "metadata": {
    "collapsed": true
   },
   "outputs": [],
   "source": [
    "def storeTree(inputTree,filename):\n",
    "    import pickle\n",
    "    fw = open(filename,'wb+')  #Python3.6.1版本。\n",
    "    pickle.dump(inputTree,fw)\n",
    "    fw.close()\n",
    "    \n",
    "def grabTree(filename):\n",
    "    import pickle\n",
    "    fr = open(filename,'rb') \n",
    "    return pickle.load(fr)\n",
    "    "
   ]
  },
  {
   "cell_type": "code",
   "execution_count": 238,
   "metadata": {},
   "outputs": [
    {
     "data": {
      "text/plain": [
       "{'no surfacing': {0: 'no', 1: {'flippers': {0: 'no', 1: 'yes'}}}}"
      ]
     },
     "execution_count": 238,
     "metadata": {},
     "output_type": "execute_result"
    }
   ],
   "source": [
    "storeTree(myTree,'classifierStrorage.txt')\n",
    "grabTree('classifierStrorage.txt')"
   ]
  },
  {
   "cell_type": "markdown",
   "metadata": {},
   "source": [
    "##  使用决策树预测隐形眼镜类型"
   ]
  },
  {
   "cell_type": "code",
   "execution_count": 96,
   "metadata": {
    "collapsed": true
   },
   "outputs": [],
   "source": [
    "fr = open('lenses.txt')"
   ]
  },
  {
   "cell_type": "code",
   "execution_count": 97,
   "metadata": {
    "collapsed": true
   },
   "outputs": [],
   "source": [
    "lenses =[inst.strip().split('\\t') for inst in fr.readlines()] #把文件中的每一行读为一个列表\n"
   ]
  },
  {
   "cell_type": "code",
   "execution_count": 98,
   "metadata": {},
   "outputs": [
    {
     "name": "stdout",
     "output_type": "stream",
     "text": [
      "[['young', 'myope', 'no', 'reduced', 'no lenses'], ['young', 'myope', 'no', 'normal', 'soft'], ['young', 'myope', 'yes', 'reduced', 'no lenses'], ['young', 'myope', 'yes', 'normal', 'hard'], ['young', 'hyper', 'no', 'reduced', 'no lenses'], ['young', 'hyper', 'no', 'normal', 'soft'], ['young', 'hyper', 'yes', 'reduced', 'no lenses'], ['young', 'hyper', 'yes', 'normal', 'hard'], ['pre', 'myope', 'no', 'reduced', 'no lenses'], ['pre', 'myope', 'no', 'normal', 'soft'], ['pre', 'myope', 'yes', 'reduced', 'no lenses'], ['pre', 'myope', 'yes', 'normal', 'hard'], ['pre', 'hyper', 'no', 'reduced', 'no lenses'], ['pre', 'hyper', 'no', 'normal', 'soft'], ['pre', 'hyper', 'yes', 'reduced', 'no lenses'], ['pre', 'hyper', 'yes', 'normal', 'no lenses'], ['presbyopic', 'myope', 'no', 'reduced', 'no lenses'], ['presbyopic', 'myope', 'no', 'normal', 'no lenses'], ['presbyopic', 'myope', 'yes', 'reduced', 'no lenses'], ['presbyopic', 'myope', 'yes', 'normal', 'hard'], ['presbyopic', 'hyper', 'no', 'reduced', 'no lenses'], ['presbyopic', 'hyper', 'no', 'normal', 'soft'], ['presbyopic', 'hyper', 'yes', 'reduced', 'no lenses'], ['presbyopic', 'hyper', 'yes', 'normal', 'no lenses']]\n"
     ]
    }
   ],
   "source": [
    "print(lenses)"
   ]
  },
  {
   "cell_type": "code",
   "execution_count": 101,
   "metadata": {},
   "outputs": [
    {
     "name": "stdout",
     "output_type": "stream",
     "text": [
      "['no lenses', 'soft', 'no lenses', 'hard', 'no lenses', 'soft', 'no lenses', 'hard', 'no lenses', 'soft', 'no lenses', 'hard', 'no lenses', 'soft', 'no lenses', 'no lenses', 'no lenses', 'no lenses', 'no lenses', 'hard', 'no lenses', 'soft', 'no lenses', 'no lenses']\n",
      "15\n",
      "24\n",
      "['no lenses', 'no lenses', 'no lenses', 'no lenses', 'no lenses', 'no lenses', 'no lenses', 'no lenses', 'no lenses', 'no lenses', 'no lenses', 'no lenses']\n",
      "12\n",
      "12\n",
      "tearRate\n",
      "reduced\n",
      "['soft', 'hard', 'soft', 'hard', 'soft', 'hard', 'soft', 'no lenses', 'no lenses', 'hard', 'soft', 'no lenses']\n",
      "5\n",
      "12\n",
      "['soft', 'soft', 'soft', 'soft', 'no lenses', 'soft']\n",
      "5\n",
      "6\n",
      "['soft', 'soft']\n",
      "2\n",
      "2\n",
      "age\n",
      "pre\n",
      "['soft', 'soft']\n",
      "2\n",
      "2\n",
      "age\n",
      "young\n",
      "['no lenses', 'soft']\n",
      "1\n",
      "2\n",
      "['no lenses']\n",
      "1\n",
      "1\n",
      "prescript\n",
      "myope\n",
      "['soft']\n",
      "1\n",
      "1\n",
      "prescript\n",
      "hyper\n",
      "age\n",
      "presbyopic\n",
      "astigmatic\n",
      "no\n",
      "['hard', 'hard', 'hard', 'no lenses', 'hard', 'no lenses']\n",
      "4\n",
      "6\n",
      "['hard', 'hard', 'hard']\n",
      "3\n",
      "3\n",
      "prescript\n",
      "myope\n",
      "['hard', 'no lenses', 'no lenses']\n",
      "1\n",
      "3\n",
      "['no lenses']\n",
      "1\n",
      "1\n",
      "age\n",
      "pre\n",
      "['hard']\n",
      "1\n",
      "1\n",
      "age\n",
      "young\n",
      "['no lenses']\n",
      "1\n",
      "1\n",
      "age\n",
      "presbyopic\n",
      "prescript\n",
      "hyper\n",
      "astigmatic\n",
      "yes\n",
      "tearRate\n",
      "normal\n",
      "{'tearRate': {'reduced': 'no lenses', 'normal': {'astigmatic': {'no': {'age': {'pre': 'soft', 'young': 'soft', 'presbyopic': {'prescript': {'myope': 'no lenses', 'hyper': 'soft'}}}}, 'yes': {'prescript': {'myope': 'hard', 'hyper': {'age': {'pre': 'no lenses', 'young': 'hard', 'presbyopic': 'no lenses'}}}}}}}}\n"
     ]
    }
   ],
   "source": [
    "lensesLabels = ['age', 'prescript', 'astigmatic', 'tearRate']\n",
    "lensesTree = createTree(lenses, lensesLabels)\n",
    "print(lensesTree)"
   ]
  },
  {
   "cell_type": "code",
   "execution_count": 102,
   "metadata": {},
   "outputs": [
    {
     "name": "stderr",
     "output_type": "stream",
     "text": [
      "E:\\Anaconda3\\lib\\site-packages\\matplotlib\\cbook\\deprecation.py:106: MatplotlibDeprecationWarning: Adding an axes using the same arguments as a previous axes currently reuses the earlier instance.  In a future version, a new instance will always be created and returned.  Meanwhile, this warning can be suppressed, and the future behavior ensured, by passing a unique label to each axes instance.\n",
      "  warnings.warn(message, mplDeprecation, stacklevel=1)\n"
     ]
    },
    {
     "data": {
      "image/png": "[encoded data removed]",
      "text/plain": [
       "<matplotlib.figure.Figure at 0x9203e10>"
      ]
     },
     "metadata": {},
     "output_type": "display_data"
    }
   ],
   "source": [
    "createPlot(lensesTree)"
   ]
  },
  {
   "cell_type": "code",
   "execution_count": null,
   "metadata": {
    "collapsed": true
   },
   "outputs": [],
   "source": []
  }
 ],
 "metadata": {
  "kernelspec": {
   "display_name": "Python 3",
   "language": "python",
   "name": "python3"
  },
  "language_info": {
   "codemirror_mode": {
    "name": "ipython",
    "version": 3
   },
   "file_extension": ".py",
   "mimetype": "text/x-python",
   "name": "python",
   "nbconvert_exporter": "python",
   "pygments_lexer": "ipython3",
   "version": "3.6.3"
  }
 },
 "nbformat": 4,
 "nbformat_minor": 2
}
